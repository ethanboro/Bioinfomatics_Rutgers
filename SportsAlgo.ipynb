{
 "cells": [
  {
   "cell_type": "code",
   "execution_count": 9,
   "metadata": {},
   "outputs": [],
   "source": [
    "import requests\n",
    "import re\n",
    "import pandas as pd\n",
    "import numpy\n",
    "from bs4 import BeautifulSoup, SoupStrainer"
   ]
  },
  {
   "cell_type": "code",
   "execution_count": 10,
   "metadata": {},
   "outputs": [
    {
     "name": "stdout",
     "output_type": "stream",
     "text": [
      "['76ers', 'Bucks', 'Bulls', 'Cavaliers', 'Celtics', 'Clippers', 'Grizzlies', 'Hawks', 'Heat', 'Hornets', 'Jazz', 'Kings', 'Knicks', 'Lakers', 'Magic', 'Mavericks', 'Nets', 'Nuggets', 'Pacers', 'Pelicans', 'Pistons', 'Raptors', 'Rockets', 'Spurs', 'Suns', 'Thunder', 'Timberwolves', 'Blazers', 'Warriors', 'Wizards']\n"
     ]
    }
   ],
   "source": [
    "nba_team_dict = {\"76ers\":0, \n",
    "\"Bucks\":0, \n",
    "\"Bulls\":0, \n",
    "\"Cavaliers\":0, \n",
    "\"Celtics\":0,\n",
    "\"Clippers\":0,\n",
    "\"Grizzlies\":0,\n",
    "\"Hawks\":0,\n",
    "\"Heat\":0,\n",
    "\"Hornets\":0,\n",
    "\"Jazz\":0,\n",
    "\"Kings\":0,\n",
    "\"Knicks\":0,\n",
    "\"Lakers\":0,\n",
    "\"Magic\":0,\n",
    "\"Mavericks\":0,\n",
    "\"Nets\":0,\n",
    "\"Nuggets\":0,\n",
    "\"Pacers\":0,\n",
    "\"Pelicans\":0,\n",
    "\"Pistons\":0,\n",
    "\"Raptors\":0,\n",
    "\"Rockets\":0,\n",
    "\"Spurs\":0,\n",
    "\"Suns\":0,\n",
    "\"Thunder\":0,\n",
    "\"Timberwolves\":0,\n",
    "\"Blazers\":0,\n",
    "\"Warriors\":0,\n",
    "\"Wizards\":0}\n",
    "\n",
    "\n",
    "nba_team_list = []\n",
    "\n",
    "for key in nba_team_dict:\n",
    "    nba_team_list.append(key)\n",
    "print(nba_team_list)"
   ]
  },
  {
   "cell_type": "code",
   "execution_count": 11,
   "metadata": {},
   "outputs": [
    {
     "ename": "SyntaxError",
     "evalue": "unexpected EOF while parsing (<ipython-input-11-039f52a136fc>, line 6)",
     "output_type": "error",
     "traceback": [
      "\u001b[0;36m  File \u001b[0;32m\"<ipython-input-11-039f52a136fc>\"\u001b[0;36m, line \u001b[0;32m6\u001b[0m\n\u001b[0;31m    \u001b[0m\n\u001b[0m    ^\u001b[0m\n\u001b[0;31mSyntaxError\u001b[0m\u001b[0;31m:\u001b[0m unexpected EOF while parsing\n"
     ]
    }
   ],
   "source": [
    "#make a list of 2d lists of every nba matchup of the day\n",
    "#make a dictionary of team indicator\n",
    "\n",
    "for i in matchups:\n",
    "    for team in i:\n",
    "        "
   ]
  },
  {
   "cell_type": "code",
   "execution_count": 12,
   "metadata": {},
   "outputs": [],
   "source": [
    "#for key in nba_team_dict:\n",
    "   # sentinel = requests.get(\"https://www.statmuse.com/nba/ask/\" + key + \"-record-last-20-games\")\n",
    "   # sentinel"
   ]
  },
  {
   "cell_type": "code",
   "execution_count": 13,
   "metadata": {},
   "outputs": [],
   "source": [
    "html = requests.get(\"https://www.statmuse.com/nba/ask/\" + \"bulls\" + \"-record-last-20-games\")"
   ]
  },
  {
   "cell_type": "code",
   "execution_count": 14,
   "metadata": {},
   "outputs": [],
   "source": [
    "soup1 = BeautifulSoup(html.content, 'lxml', parse_only=SoupStrainer('span', class_= 'fill-team-secondary'))"
   ]
  },
  {
   "cell_type": "code",
   "execution_count": 15,
   "metadata": {},
   "outputs": [],
   "source": [
    "soup = BeautifulSoup(html.text, \"html.parser\")"
   ]
  },
  {
   "cell_type": "code",
   "execution_count": 16,
   "metadata": {},
   "outputs": [
    {
     "data": {
      "text/plain": [
       "[]"
      ]
     },
     "execution_count": 16,
     "metadata": {},
     "output_type": "execute_result"
    }
   ],
   "source": [
    "soup.find_all(tag='result')\n"
   ]
  },
  {
   "cell_type": "code",
   "execution_count": 17,
   "metadata": {},
   "outputs": [
    {
     "data": {
      "text/plain": [
       "'<!DOCTYPE html>\\n'"
      ]
     },
     "execution_count": 17,
     "metadata": {},
     "output_type": "execute_result"
    }
   ],
   "source": [
    "soup1.prettify()"
   ]
  },
  {
   "cell_type": "code",
   "execution_count": null,
   "metadata": {},
   "outputs": [],
   "source": []
  },
  {
   "cell_type": "code",
   "execution_count": 18,
   "metadata": {},
   "outputs": [
    {
     "ename": "SyntaxError",
     "evalue": "invalid syntax (<ipython-input-18-3bb085eeb087>, line 5)",
     "output_type": "error",
     "traceback": [
      "\u001b[0;36m  File \u001b[0;32m\"<ipython-input-18-3bb085eeb087>\"\u001b[0;36m, line \u001b[0;32m5\u001b[0m\n\u001b[0;31m    x =\u001b[0m\n\u001b[0m        ^\u001b[0m\n\u001b[0;31mSyntaxError\u001b[0m\u001b[0;31m:\u001b[0m invalid syntax\n"
     ]
    }
   ],
   "source": [
    "from bs4 import BeautifulSoup\n",
    "\n",
    "x=sentinel.text\n",
    "\n",
    "x = "
   ]
  },
  {
   "cell_type": "code",
   "execution_count": 19,
   "metadata": {},
   "outputs": [],
   "source": [
    "answer = soup.find(\"visual-answer\")"
   ]
  },
  {
   "cell_type": "code",
   "execution_count": 20,
   "metadata": {},
   "outputs": [],
   "source": [
    "answer.answer"
   ]
  },
  {
   "cell_type": "code",
   "execution_count": 21,
   "metadata": {},
   "outputs": [
    {
     "name": "stdout",
     "output_type": "stream",
     "text": [
      "['104-125', '122-125', '117-96', '119-111', '114-117', '139-131', '113-99', '109-105', '91-116', '124-96', '118-108', '112-124', '110-121', '121-91', '128-107', '105-123', '92-105', '115-112', '103-81', '109-105']\n",
      "3\n",
      "3\n",
      "3\n",
      "3\n",
      "3\n",
      "3\n",
      "3\n",
      "3\n",
      "2\n",
      "3\n",
      "3\n",
      "3\n",
      "3\n",
      "3\n",
      "3\n",
      "3\n",
      "2\n",
      "3\n",
      "3\n",
      "3\n",
      "3.35\n"
     ]
    }
   ],
   "source": [
    "mypattern = \"[LW] \\d{2,3}-\\d{2,3}\"\n",
    "\n",
    "mylist = re.findall(mypattern, html.text)\n",
    "mylist\n",
    "\n",
    "jlist = []\n",
    "\n",
    "for i in mylist:\n",
    "    jlist.append(i[2:])\n",
    "    \n",
    "mylist = jlist\n",
    "print(mylist)\n",
    "indicator = 0\n",
    "for i in mylist:\n",
    "    index = i.index(\"-\")\n",
    "    print(index)\n",
    "    indicator += (int(i[:index]) - int(i[(index+1):]))\n",
    "    \n",
    "indicator/=20\n",
    "print(indicator)   \n",
    "    "
   ]
  },
  {
   "cell_type": "code",
   "execution_count": 23,
   "metadata": {},
   "outputs": [
    {
     "ename": "ValueError",
     "evalue": "invalid literal for int() with base 10: '4-1'",
     "output_type": "error",
     "traceback": [
      "\u001b[0;31m---------------------------------------------------------------------------\u001b[0m",
      "\u001b[0;31mValueError\u001b[0m                                Traceback (most recent call last)",
      "\u001b[0;32m<ipython-input-23-66a8b9092495>\u001b[0m in \u001b[0;36m<module>\u001b[0;34m\u001b[0m\n\u001b[1;32m      1\u001b[0m \u001b[0mindicator\u001b[0m \u001b[0;34m=\u001b[0m \u001b[0;36m0\u001b[0m\u001b[0;34m\u001b[0m\u001b[0;34m\u001b[0m\u001b[0m\n\u001b[1;32m      2\u001b[0m \u001b[0;32mfor\u001b[0m \u001b[0mi\u001b[0m \u001b[0;32min\u001b[0m \u001b[0mmylist\u001b[0m\u001b[0;34m:\u001b[0m\u001b[0;34m\u001b[0m\u001b[0;34m\u001b[0m\u001b[0m\n\u001b[0;32m----> 3\u001b[0;31m     \u001b[0mindicator\u001b[0m\u001b[0;34m+=\u001b[0m \u001b[0mint\u001b[0m\u001b[0;34m(\u001b[0m\u001b[0mi\u001b[0m\u001b[0;34m[\u001b[0m\u001b[0;36m2\u001b[0m\u001b[0;34m:\u001b[0m\u001b[0;36m5\u001b[0m\u001b[0;34m]\u001b[0m\u001b[0;34m)\u001b[0m\u001b[0;34m-\u001b[0m\u001b[0mint\u001b[0m\u001b[0;34m(\u001b[0m\u001b[0mi\u001b[0m\u001b[0;34m[\u001b[0m\u001b[0;36m6\u001b[0m\u001b[0;34m:\u001b[0m\u001b[0;36m9\u001b[0m\u001b[0;34m]\u001b[0m\u001b[0;34m)\u001b[0m\u001b[0;34m\u001b[0m\u001b[0;34m\u001b[0m\u001b[0m\n\u001b[0m\u001b[1;32m      4\u001b[0m \u001b[0;34m\u001b[0m\u001b[0m\n\u001b[1;32m      5\u001b[0m \u001b[0mindicator\u001b[0m\u001b[0;34m/=\u001b[0m\u001b[0;36m20\u001b[0m\u001b[0;34m\u001b[0m\u001b[0;34m\u001b[0m\u001b[0m\n",
      "\u001b[0;31mValueError\u001b[0m: invalid literal for int() with base 10: '4-1'"
     ]
    }
   ],
   "source": [
    "indicator = 0\n",
    "for i in mylist:\n",
    "    indicator+= int(i[2:5])-int(i[6:9])\n",
    "\n",
    "indicator/=20\n",
    "indicator\n",
    "    \n",
    "mylist[0][2:5]\n",
    "mylist[0][6:9]"
   ]
  },
  {
   "cell_type": "code",
   "execution_count": 24,
   "metadata": {},
   "outputs": [
    {
     "name": "stdout",
     "output_type": "stream",
     "text": [
      "['a', 'b']\n"
     ]
    }
   ],
   "source": [
    "klist = [\"a\",\"b\"]\n",
    "for i in klist:\n",
    "    i = \"z\"\n",
    "    \n",
    "print (klist)"
   ]
  },
  {
   "cell_type": "code",
   "execution_count": 25,
   "metadata": {},
   "outputs": [
    {
     "data": {
      "text/plain": [
       "2"
      ]
     },
     "execution_count": 25,
     "metadata": {},
     "output_type": "execute_result"
    }
   ],
   "source": [
    "\"2-1\".index(\"1\")"
   ]
  },
  {
   "cell_type": "code",
   "execution_count": 26,
   "metadata": {},
   "outputs": [
    {
     "name": "stdout",
     "output_type": "stream",
     "text": [
      "12\n",
      "45678\n"
     ]
    }
   ],
   "source": [
    "st = \"12345678\"\n",
    "print(st[:2])\n",
    "print(st[3:])"
   ]
  },
  {
   "cell_type": "code",
   "execution_count": 27,
   "metadata": {},
   "outputs": [
    {
     "data": {
      "text/plain": [
       "'nba_team_list = []\\n\\nfor key in nba_team_dict:\\n    nba_team_list.append(key)\\nprint(nba_team_list)'"
      ]
     },
     "execution_count": 27,
     "metadata": {},
     "output_type": "execute_result"
    }
   ],
   "source": [
    "nba_team_dict = {\"76ers\":0, \n",
    "\"Bucks\":0, \n",
    "\"Bulls\":0, \n",
    "\"Cavaliers\":0, \n",
    "\"Celtics\":0,\n",
    "\"Clippers\":0,\n",
    "\"Grizzlies\":0,\n",
    "\"Hawks\":0,\n",
    "\"Heat\":0,\n",
    "\"Hornets\":0,\n",
    "\"Jazz\":0,\n",
    "\"Kings\":0,\n",
    "\"Knicks\":0,\n",
    "\"Lakers\":0,\n",
    "\"Magic\":0,\n",
    "\"Mavericks\":0,\n",
    "\"Nets\":0,\n",
    "\"Nuggets\":0,\n",
    "\"Pacers\":0,\n",
    "\"Pelicans\":0,\n",
    "\"Pistons\":0,\n",
    "\"Raptors\":0,\n",
    "\"Rockets\":0,\n",
    "\"Spurs\":0,\n",
    "\"Suns\":0,\n",
    "\"Thunder\":0,\n",
    "\"Timberwolves\":0,\n",
    "\"Blazers\":0,\n",
    "\"Warriors\":0,\n",
    "\"Wizards\":0}\n",
    "\n",
    "\n",
    "'''nba_team_list = []\n",
    "\n",
    "for key in nba_team_dict:\n",
    "    nba_team_list.append(key)\n",
    "print(nba_team_list)'''"
   ]
  },
  {
   "cell_type": "code",
   "execution_count": 28,
   "metadata": {},
   "outputs": [
    {
     "name": "stdout",
     "output_type": "stream",
     "text": [
      "['104-125', '122-125', '117-96', '119-111', '114-117', '139-131', '113-99', '109-105', '91-116', '124-96', '118-108', '112-124', '110-121', '121-91', '128-107', '105-123', '92-105', '115-112', '103-81', '109-105']\n",
      "3.35\n"
     ]
    }
   ],
   "source": [
    "mypattern = \"[LW] \\d{2,3}-\\d{2,3}\"\n",
    "\n",
    "mylist = re.findall(mypattern, html.text)\n",
    "\n",
    "\n",
    "jlist = []\n",
    "\n",
    "for i in mylist:\n",
    "    jlist.append(i[2:])\n",
    "    \n",
    "mylist = jlist\n",
    "print(mylist)\n",
    "indicator = 0\n",
    "for i in mylist:\n",
    "    index = i.index(\"-\")\n",
    "    indicator += (int(i[:index]) - int(i[(index+1):]))\n",
    "    \n",
    "indicator/=20\n",
    "print(indicator)   "
   ]
  },
  {
   "cell_type": "code",
   "execution_count": 29,
   "metadata": {},
   "outputs": [],
   "source": [
    "pfd = nba_team_dict.copy()\n",
    "pad = nba_team_dict.copy()\n",
    "\n",
    "for key in nba_team_dict:\n",
    "    html = requests.get(\"https://www.statmuse.com/nba/ask/\" + key + \"-record-last-10-games\")\n",
    "    mypattern = \"[LW] \\d{2,3}-\\d{2,3}\"\n",
    "\n",
    "    weblist = re.findall(mypattern, html.text)\n",
    "\n",
    "    scorelist = []\n",
    "\n",
    "    for i in weblist:\n",
    "        scorelist.append(i[2:])\n",
    "          \n",
    "    pf= 0\n",
    "    pa = 0\n",
    "    indicator = 0\n",
    "    \n",
    "    for i in scorelist:\n",
    "        index = i.index(\"-\")\n",
    "        indicator += (int(i[:index]) - int(i[(index+1):]))\n",
    "        pf += (int(i[:index]))\n",
    "        #print(pf)\n",
    "        pa += int(i[(index+1):])\n",
    "        #print(pa)\n",
    "    #change to 10 vs 20\n",
    "    indicator_pergame = indicator/10\n",
    "    \n",
    "    \n",
    "    nba_team_dict[key] = indicator_pergame\n",
    "    \n",
    "    #print(pf)\n",
    "    #print(pa)\n",
    "    \n",
    "    pfd[key] = pf/10\n",
    "    pad[key] = pa/10\n",
    "    \n",
    "    #print(pfd[key])\n",
    "    #print(pad[key])\n",
    "    "
   ]
  },
  {
   "cell_type": "code",
   "execution_count": 30,
   "metadata": {
    "scrolled": true
   },
   "outputs": [
    {
     "data": {
      "text/plain": [
       "{'76ers': -2.3,\n",
       " 'Bucks': -1.5,\n",
       " 'Bulls': 3.6,\n",
       " 'Cavaliers': 5.9,\n",
       " 'Celtics': 14.9,\n",
       " 'Clippers': 2.2,\n",
       " 'Grizzlies': 4.1,\n",
       " 'Hawks': 3.2,\n",
       " 'Heat': -0.1,\n",
       " 'Hornets': -5.8,\n",
       " 'Jazz': -7.3,\n",
       " 'Kings': 4.6,\n",
       " 'Knicks': 3.2,\n",
       " 'Lakers': 6.9,\n",
       " 'Magic': -0.2,\n",
       " 'Mavericks': -3.0,\n",
       " 'Nets': 3.9,\n",
       " 'Nuggets': 0.3,\n",
       " 'Pacers': -8.7,\n",
       " 'Pelicans': 5.8,\n",
       " 'Pistons': -12.8,\n",
       " 'Raptors': 6.7,\n",
       " 'Rockets': -8.0,\n",
       " 'Spurs': -12.8,\n",
       " 'Suns': 5.6,\n",
       " 'Thunder': 1.0,\n",
       " 'Timberwolves': 1.1,\n",
       " 'Blazers': -20.9,\n",
       " 'Warriors': 13.3,\n",
       " 'Wizards': -3.8}"
      ]
     },
     "execution_count": 30,
     "metadata": {},
     "output_type": "execute_result"
    }
   ],
   "source": [
    "nba_team_dict\n",
    "#add home/away\n",
    "#add injuries - how relevant players are my ppg, apg, rpg\n",
    "#add previous games played\n",
    "\n",
    "#last 10"
   ]
  },
  {
   "cell_type": "code",
   "execution_count": 31,
   "metadata": {},
   "outputs": [],
   "source": [
    "def prediction(team1, team2, budget):\n",
    "    ind1 = nba_team_dict[team1]\n",
    "    ind2 = nba_team_dict[team2]\n",
    "    if ind1> ind2:\n",
    "        inddif = ind1 - ind2\n",
    "        fav = team1\n",
    "    else:\n",
    "        inddif = ind2 - ind1\n",
    "        fav = team2\n",
    "    print(f\"{team1} has an indicator of {ind1}, {team2} has an indicator of {ind2}\")\n",
    "    print(f\"favorite is {fav} by an indicator of {inddif}\")\n",
    "        \n",
    "    if inddif<1:\n",
    "        print (f\"80% chance on over\")\n",
    "    elif inddif<2:\n",
    "        print (f\"70% chance on over\")\n",
    "    elif inddif <4:\n",
    "        print (f\"65% chance on {fav}\")\n",
    "    elif inddif <6:\n",
    "        print (f\"70% chance on {fav}\")\n",
    "    elif inddif <8:\n",
    "        print (f\"75% chance on {fav}\")\n",
    "    else:\n",
    "        print(\"High indicator, see moneyline, potential lock\")\n",
    "    "
   ]
  },
  {
   "cell_type": "code",
   "execution_count": 33,
   "metadata": {},
   "outputs": [
    {
     "name": "stdout",
     "output_type": "stream",
     "text": [
      "Thunder has an indicator of 1.0, Timberwolves has an indicator of 1.1\n",
      "favorite is Timberwolves by an indicator of 0.10000000000000009\n",
      "80% chance on over\n"
     ]
    }
   ],
   "source": [
    "prediction(\"Thunder\", \"Timberwolves\", 5)"
   ]
  },
  {
   "cell_type": "code",
   "execution_count": null,
   "metadata": {},
   "outputs": [],
   "source": []
  },
  {
   "cell_type": "code",
   "execution_count": null,
   "metadata": {},
   "outputs": [],
   "source": [
    "team1 = \"Celtics\"\n",
    "team2 = \"Jazz\"\n",
    "\n",
    "ind1 = nba_team_dict[team1]\n",
    "ind2 = nba_team_dict[team2]\n",
    "if ind1> ind2:\n",
    "    inddif = ind1 - ind2\n",
    "    print(inddif)\n",
    "    fav = team1\n",
    "    print(True)\n",
    "else:\n",
    "    inddif = ind2 - ind1\n",
    "    fav = team2\n",
    "    print(False)\n",
    "\n",
    "    \n",
    "print(f\"favorite is {fav} by an indicator of {inddif}\")\n",
    "\n"
   ]
  },
  {
   "cell_type": "code",
   "execution_count": null,
   "metadata": {},
   "outputs": [],
   "source": [
    "prediction(\"Raptors\", \"Heat\", 5)"
   ]
  },
  {
   "cell_type": "code",
   "execution_count": null,
   "metadata": {},
   "outputs": [],
   "source": [
    "#to do\n",
    "#add home/away indicator change\n",
    "#add previous game, variable change to indicator if game was home or away\n",
    "# add a list displaying each team's points for and against"
   ]
  },
  {
   "cell_type": "code",
   "execution_count": null,
   "metadata": {},
   "outputs": [],
   "source": [
    "print(pfd)"
   ]
  },
  {
   "cell_type": "code",
   "execution_count": null,
   "metadata": {},
   "outputs": [],
   "source": [
    "print(pad)"
   ]
  },
  {
   "cell_type": "code",
   "execution_count": null,
   "metadata": {},
   "outputs": [],
   "source": [
    "print(nba_team_dict)"
   ]
  },
  {
   "cell_type": "code",
   "execution_count": null,
   "metadata": {},
   "outputs": [],
   "source": [
    "team_1 = \"Raptors\"\n",
    "team_2 = \"Heat\"\n",
    "(pfd[team_1]+pad[team_2]+pfd[team_2]+pad[team_1])/2"
   ]
  },
  {
   "cell_type": "code",
   "execution_count": null,
   "metadata": {},
   "outputs": [],
   "source": [
    "(pfd[\"Mavericks\"]+pad[\"Grizzlies\"])/2"
   ]
  },
  {
   "cell_type": "code",
   "execution_count": null,
   "metadata": {},
   "outputs": [],
   "source": [
    "#BACKTEST: "
   ]
  },
  {
   "cell_type": "code",
   "execution_count": null,
   "metadata": {},
   "outputs": [],
   "source": []
  },
  {
   "cell_type": "code",
   "execution_count": null,
   "metadata": {},
   "outputs": [],
   "source": []
  },
  {
   "cell_type": "code",
   "execution_count": null,
   "metadata": {},
   "outputs": [],
   "source": [
    "pfd = nba_team_dict.copy()\n",
    "pad = nba_team_dict.copy()\n",
    "\n",
    "for key in nba_team_dict:\n",
    "    html = requests.get(\"https://www.statmuse.com/nba/ask/\" + key + \"-record-last-50-games\")\n",
    "    mypattern = \"[LW] \\d{2,3}-\\d{2,3}\"\n",
    "\n",
    "    weblist = re.findall(mypattern, html.text)\n",
    "\n",
    "    scorelist = []\n",
    "\n",
    "    for i in weblist:\n",
    "        scorelist.append(i[2:])\n",
    "          \n",
    "    pf= 0\n",
    "    pa = 0\n",
    "    indicator = 0\n",
    "    \n",
    "    for i in scorelist:\n",
    "        n+=1\n",
    "        index = i.index(\"-\")\n",
    "        indicator += (int(i[:index]) - int(i[(index+1):]))\n",
    "        pf += (int(i[:index]))\n",
    "        #print(pf)\n",
    "        pa += int(i[(index+1):])\n",
    "        #print(pa)\n",
    "    #change to 10 vs 20\n",
    "        \n",
    "        indicator_pergame = indicator/10\n",
    "        if n>10:\n",
    "            lastten = scorelist[-11:-1]\n",
    "            totalindicator = 0\n",
    "            for i in lastten:\n",
    "                c = 0\n",
    "                index = i.index(\"-\")\n",
    "                totalindicator += (int(totalindicator[c][:index]) - int(totalindicator[c][(index+1):]))\n",
    "                \n",
    "            \n",
    "                \n",
    "            \n",
    "            \n",
    "        \n",
    "    \n",
    "    \n",
    "    nba_team_dict[key] = indicator_pergame\n",
    "    \n",
    "    #print(pf)\n",
    "    #print(pa)\n",
    "    \n",
    "    pfd[key] = pf/10\n",
    "    pad[key] = pa/10\n",
    "    \n",
    "    #print(pfd[key])\n",
    "    #print(pad[key])\n",
    "    "
   ]
  },
  {
   "cell_type": "code",
   "execution_count": null,
   "metadata": {},
   "outputs": [],
   "source": [
    "for i in range (10):\n",
    "    if i<5:\n",
    "        continue\n",
    "    print(i)"
   ]
  },
  {
   "cell_type": "code",
   "execution_count": null,
   "metadata": {},
   "outputs": [],
   "source": [
    "[1,2,3,4,5,6,7,8,9,10,11,12,13][-10:-1]"
   ]
  },
  {
   "cell_type": "code",
   "execution_count": null,
   "metadata": {},
   "outputs": [],
   "source": [
    "listdict = nba_team_dict.copy()\n",
    "for key in nba_team_dict:\n",
    "    html = requests.get(\"https://www.statmuse.com/nba/ask/\" + key + \"-record-last-50-games\")\n",
    "    mypattern = \"........[LW] \\d{2,3}-\\d{2,3}\"\n",
    "\n",
    "    weblist = re.findall(mypattern, html.text)\n",
    "\n",
    "    #scorelist = []\n",
    "\n",
    "    #for i in weblist:\n",
    "      #  scorelist.append(i[2:])\n",
    "    \n",
    "  #  listdict[key] = scorelist\n",
    "\n",
    "    print(weblist)"
   ]
  },
  {
   "cell_type": "code",
   "execution_count": null,
   "metadata": {},
   "outputs": [],
   "source": [
    "abrevdict = {\"MIL\": \"Bucks\", \"OKC\":\"Thunder\", \"UTA\": \"Jazz\", \"PHX\": \"Suns\", \"GSW\":\"Warriors\", \"SAC\":\"Kings\", \"WAS\":\"Wizards\", \n",
    " \"DAL\":\"Mavericks\", \"ATL\":\"Hawks\", \"NYK\":\"Knicks\", \"MIN\":\"Timberwolves\", \"MIA\":\"Heat\", \"HOU\":\"Rockets\", \"DET\":\"Pistons\",\n",
    "\"CLE\":\"Cavaliers\", \"BKN\":\"Nets\", \"PHI\": \"Sixers\", \"BOS\":\"Celtics\", \"IND\":\"Pacers\", \"CHA\":\"Hornets\", \"ORL\":\"Magic\", \n",
    "\"POR\":\"Blazers\", \"MEM\":\"Grizzlies\", \"TOR\":\"Raptors\", \"DEN\":\"Nuggets\", \"SAS\":\"Spurs\", \"CHI\":\"Bulls\", \"LAC\":\"Clippers\", \n",
    "\"LAL\":\"Lakers\", \"NOP\":\"Pelicans\"}"
   ]
  },
  {
   "cell_type": "code",
   "execution_count": null,
   "metadata": {},
   "outputs": [],
   "source": [
    "html = requests.get(\"https://www.statmuse.com/nba/ask/\" + \"hornets\" + \"-record-last-10-games\")\n",
    "html.text"
   ]
  },
  {
   "cell_type": "code",
   "execution_count": null,
   "metadata": {},
   "outputs": [],
   "source": []
  }
 ],
 "metadata": {
  "kernelspec": {
   "display_name": "Python 3",
   "language": "python",
   "name": "python3"
  },
  "language_info": {
   "codemirror_mode": {
    "name": "ipython",
    "version": 3
   },
   "file_extension": ".py",
   "mimetype": "text/x-python",
   "name": "python",
   "nbconvert_exporter": "python",
   "pygments_lexer": "ipython3",
   "version": "3.7.1"
  }
 },
 "nbformat": 4,
 "nbformat_minor": 2
}
