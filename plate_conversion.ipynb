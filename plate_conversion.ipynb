{
 "cells": [
  {
   "cell_type": "code",
   "execution_count": 173,
   "metadata": {},
   "outputs": [],
   "source": [
    "import pandas as pd"
   ]
  },
  {
   "cell_type": "code",
   "execution_count": 174,
   "metadata": {},
   "outputs": [],
   "source": [
    "mysheet = pd.read_csv(\"excel_sheet.csv\", header=None)"
   ]
  },
  {
   "cell_type": "code",
   "execution_count": 176,
   "metadata": {},
   "outputs": [],
   "source": [
    "import pandas as pd\n",
    "mysheet = pd.read_csv(\"excel_sheet.csv\", header=None)\n",
    "\n",
    "#this program will create 9 csv files and add them to your desktop, titled \"Plate1.csv, Plate2.csv, ... Plate9.csv\"\n",
    "#these 9 files will each be printed from the original file in quad format, sequentially\n",
    "#make sure that the excel sheet you are using is 36x384, and is titled \"excel_sheet.csv\"\n",
    "#or change replace every instance of this code that \"excel_sheet.csv\" with \"whatever_the_name_of_your_file_is\"\n",
    "#make sure it is in csv format though\n",
    "\n",
    "for i in range(9):\n",
    "    \n",
    "    section = mysheet.loc[:,i*4:i*4+3]\n",
    "    serieslist = []\n",
    "    for x in range(16):\n",
    "        series1 = []\n",
    "        series2 = []\n",
    "        for z in range(24):\n",
    "            minirow = section.loc[24*x+z:24*x+z,:]\n",
    "            minirow = minirow.T.iloc[:,0]\n",
    "            minirow = minirow.tolist()\n",
    "            series1.append(minirow[0])\n",
    "            series1.append(minirow[1])\n",
    "            series2.append(minirow[2])\n",
    "            series2.append(minirow[3])\n",
    "\n",
    "        serieslist.append(series1)\n",
    "        serieslist.append(series2)\n",
    "        \n",
    "    df = pd.DataFrame.from_records(serieslist)\n",
    "    df.to_csv(path_or_buf = f\"Plate{i+1}.csv\",index=None, header=False)"
   ]
  }
 ],
 "metadata": {
  "kernelspec": {
   "display_name": "Python 3",
   "language": "python",
   "name": "python3"
  },
  "language_info": {
   "codemirror_mode": {
    "name": "ipython",
    "version": 3
   },
   "file_extension": ".py",
   "mimetype": "text/x-python",
   "name": "python",
   "nbconvert_exporter": "python",
   "pygments_lexer": "ipython3",
   "version": "3.7.1"
  }
 },
 "nbformat": 4,
 "nbformat_minor": 2
}
